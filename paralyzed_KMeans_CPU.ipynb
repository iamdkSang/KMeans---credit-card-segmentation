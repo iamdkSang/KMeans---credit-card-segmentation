{
  "cells": [
    {
      "cell_type": "code",
      "execution_count": 35,
      "metadata": {
        "id": "s-y0YvJfxY70"
      },
      "outputs": [],
      "source": [
        "#Import necessary libraries\n",
        "\n",
        "import pandas as pd\n",
        "import numpy as np\n",
        "import matplotlib.pyplot as plt\n",
        "import seaborn as sns\n",
        "import io\n",
        "import time\n",
        "from numba import jit, prange"
      ]
    },
    {
      "cell_type": "code",
      "source": [
        "from google.colab import drive\n",
        "drive.mount('/content/drive')"
      ],
      "metadata": {
        "colab": {
          "base_uri": "https://localhost:8080/"
        },
        "id": "lcZeGfAmye-s",
        "outputId": "4b0cf7a3-f6ed-420a-fcf4-eaab27968588"
      },
      "execution_count": 36,
      "outputs": [
        {
          "output_type": "stream",
          "name": "stdout",
          "text": [
            "Drive already mounted at /content/drive; to attempt to forcibly remount, call drive.mount(\"/content/drive\", force_remount=True).\n"
          ]
        }
      ]
    },
    {
      "cell_type": "code",
      "execution_count": 46,
      "metadata": {
        "colab": {
          "base_uri": "https://localhost:8080/",
          "height": 461
        },
        "id": "JD9jqe1sxY71",
        "outputId": "f5cba222-09c2-4bb1-de18-8abd926dab27"
      },
      "outputs": [
        {
          "output_type": "execute_result",
          "data": {
            "text/plain": [
              "      Unnamed: 0   BALANCE  BALANCE_FREQUENCY  PURCHASES  ONEOFF_PURCHASES  \\\n",
              "0              0 -0.745369          -0.248785  -0.465787         -0.397088   \n",
              "1              1  0.822978           0.134866  -0.516362         -0.397088   \n",
              "2              2  0.472101           0.518517  -0.106471          0.140262   \n",
              "3              3  0.061121          -1.016087   0.278323          0.644711   \n",
              "4              4 -0.360018           0.518517  -0.507880         -0.385968   \n",
              "...          ...       ...                ...        ...               ...   \n",
              "8926        8926 -0.751524           0.518517  -0.362027         -0.397088   \n",
              "8927        8927 -0.756142           0.518517  -0.357319         -0.397088   \n",
              "8928        8928 -0.754051          -0.184845  -0.439810         -0.397088   \n",
              "8929        8929 -0.758982          -0.184845  -0.516362         -0.397088   \n",
              "8930        8930 -0.580770          -0.888203   0.063218          0.362716   \n",
              "\n",
              "      INSTALLMENTS_PURCHASES  CASH_ADVANCE  PURCHASES_FREQUENCY  \\\n",
              "0                  -0.365854     -0.476844            -0.805116   \n",
              "1                  -0.479339      2.682990            -1.220469   \n",
              "2                  -0.479339     -0.476844             1.271643   \n",
              "3                  -0.479339     -0.375919            -1.012794   \n",
              "4                  -0.479339     -0.476844            -1.012794   \n",
              "...                      ...           ...                  ...   \n",
              "8926               -0.133031     -0.476844             1.271643   \n",
              "8927               -0.122468     -0.476844             1.271643   \n",
              "8928               -0.307565     -0.476844             0.856290   \n",
              "8929               -0.479339     -0.458914            -1.220469   \n",
              "8930               -0.479339     -0.414539             0.440940   \n",
              "\n",
              "      ONEOFF_PURCHASES_FREQUENCY  PURCHASES_INSTALLMENTS_FREQUENCY  \\\n",
              "0                      -0.677987                         -0.706172   \n",
              "1                      -0.677987                         -0.915974   \n",
              "2                       2.681612                         -0.915974   \n",
              "3                      -0.398022                         -0.915974   \n",
              "4                      -0.398022                         -0.915974   \n",
              "...                          ...                               ...   \n",
              "8926                   -0.677987                          1.182060   \n",
              "8927                   -0.677987                          1.182060   \n",
              "8928                   -0.677987                          0.762454   \n",
              "8929                   -0.677987                         -0.915974   \n",
              "8930                    1.561746                         -0.915974   \n",
              "\n",
              "      CASH_ADVANCE_FREQUENCY  CASH_ADVANCE_TRX  PURCHASES_TRX  CREDIT_LIMIT  \\\n",
              "0                  -0.675708         -0.482201      -0.520766     -0.965868   \n",
              "1                   0.576272          0.114210      -0.603824      0.705048   \n",
              "2                  -0.675708         -0.482201      -0.105476      0.844291   \n",
              "3                  -0.258383         -0.333098      -0.562295      0.844291   \n",
              "4                  -0.675708         -0.482201      -0.562295     -0.910171   \n",
              "...                      ...               ...            ...           ...   \n",
              "8926               -0.675708         -0.482201      -0.354650     -0.965868   \n",
              "8927               -0.675708         -0.482201      -0.354650     -0.965868   \n",
              "8928               -0.675708         -0.482201      -0.396179     -0.965868   \n",
              "8929                0.158947         -0.183995      -0.603824     -1.105111   \n",
              "8930                0.993597         -0.183995       0.351344     -0.910171   \n",
              "\n",
              "      PAYMENTS  MINIMUM_PAYMENTS  PRC_FULL_PAYMENT    TENURE  \n",
              "0    -0.549205         -0.324378         -0.525663  0.360754  \n",
              "1     0.877253          0.123457          0.234367  0.360754  \n",
              "2    -0.395538         -0.090206         -0.525663  0.360754  \n",
              "3    -0.622992         -0.391354         -0.525663  0.360754  \n",
              "4    -0.374964         -0.273834         -0.525663  0.360754  \n",
              "...        ...               ...               ...       ...  \n",
              "8926 -0.503941         -0.367885          1.184407 -4.124481  \n",
              "8927 -0.522125         -0.258918         -0.525663 -4.124481  \n",
              "8928 -0.593276         -0.351786          0.329372 -4.124481  \n",
              "8929 -0.603778         -0.364587          0.329372 -4.124481  \n",
              "8930 -0.599896         -0.348968         -0.525663 -4.124481  \n",
              "\n",
              "[8931 rows x 18 columns]"
            ],
            "text/html": [
              "\n",
              "  <div id=\"df-9efe7415-5d36-451a-ab8c-de8d2143112a\" class=\"colab-df-container\">\n",
              "    <div>\n",
              "<style scoped>\n",
              "    .dataframe tbody tr th:only-of-type {\n",
              "        vertical-align: middle;\n",
              "    }\n",
              "\n",
              "    .dataframe tbody tr th {\n",
              "        vertical-align: top;\n",
              "    }\n",
              "\n",
              "    .dataframe thead th {\n",
              "        text-align: right;\n",
              "    }\n",
              "</style>\n",
              "<table border=\"1\" class=\"dataframe\">\n",
              "  <thead>\n",
              "    <tr style=\"text-align: right;\">\n",
              "      <th></th>\n",
              "      <th>Unnamed: 0</th>\n",
              "      <th>BALANCE</th>\n",
              "      <th>BALANCE_FREQUENCY</th>\n",
              "      <th>PURCHASES</th>\n",
              "      <th>ONEOFF_PURCHASES</th>\n",
              "      <th>INSTALLMENTS_PURCHASES</th>\n",
              "      <th>CASH_ADVANCE</th>\n",
              "      <th>PURCHASES_FREQUENCY</th>\n",
              "      <th>ONEOFF_PURCHASES_FREQUENCY</th>\n",
              "      <th>PURCHASES_INSTALLMENTS_FREQUENCY</th>\n",
              "      <th>CASH_ADVANCE_FREQUENCY</th>\n",
              "      <th>CASH_ADVANCE_TRX</th>\n",
              "      <th>PURCHASES_TRX</th>\n",
              "      <th>CREDIT_LIMIT</th>\n",
              "      <th>PAYMENTS</th>\n",
              "      <th>MINIMUM_PAYMENTS</th>\n",
              "      <th>PRC_FULL_PAYMENT</th>\n",
              "      <th>TENURE</th>\n",
              "    </tr>\n",
              "  </thead>\n",
              "  <tbody>\n",
              "    <tr>\n",
              "      <th>0</th>\n",
              "      <td>0</td>\n",
              "      <td>-0.745369</td>\n",
              "      <td>-0.248785</td>\n",
              "      <td>-0.465787</td>\n",
              "      <td>-0.397088</td>\n",
              "      <td>-0.365854</td>\n",
              "      <td>-0.476844</td>\n",
              "      <td>-0.805116</td>\n",
              "      <td>-0.677987</td>\n",
              "      <td>-0.706172</td>\n",
              "      <td>-0.675708</td>\n",
              "      <td>-0.482201</td>\n",
              "      <td>-0.520766</td>\n",
              "      <td>-0.965868</td>\n",
              "      <td>-0.549205</td>\n",
              "      <td>-0.324378</td>\n",
              "      <td>-0.525663</td>\n",
              "      <td>0.360754</td>\n",
              "    </tr>\n",
              "    <tr>\n",
              "      <th>1</th>\n",
              "      <td>1</td>\n",
              "      <td>0.822978</td>\n",
              "      <td>0.134866</td>\n",
              "      <td>-0.516362</td>\n",
              "      <td>-0.397088</td>\n",
              "      <td>-0.479339</td>\n",
              "      <td>2.682990</td>\n",
              "      <td>-1.220469</td>\n",
              "      <td>-0.677987</td>\n",
              "      <td>-0.915974</td>\n",
              "      <td>0.576272</td>\n",
              "      <td>0.114210</td>\n",
              "      <td>-0.603824</td>\n",
              "      <td>0.705048</td>\n",
              "      <td>0.877253</td>\n",
              "      <td>0.123457</td>\n",
              "      <td>0.234367</td>\n",
              "      <td>0.360754</td>\n",
              "    </tr>\n",
              "    <tr>\n",
              "      <th>2</th>\n",
              "      <td>2</td>\n",
              "      <td>0.472101</td>\n",
              "      <td>0.518517</td>\n",
              "      <td>-0.106471</td>\n",
              "      <td>0.140262</td>\n",
              "      <td>-0.479339</td>\n",
              "      <td>-0.476844</td>\n",
              "      <td>1.271643</td>\n",
              "      <td>2.681612</td>\n",
              "      <td>-0.915974</td>\n",
              "      <td>-0.675708</td>\n",
              "      <td>-0.482201</td>\n",
              "      <td>-0.105476</td>\n",
              "      <td>0.844291</td>\n",
              "      <td>-0.395538</td>\n",
              "      <td>-0.090206</td>\n",
              "      <td>-0.525663</td>\n",
              "      <td>0.360754</td>\n",
              "    </tr>\n",
              "    <tr>\n",
              "      <th>3</th>\n",
              "      <td>3</td>\n",
              "      <td>0.061121</td>\n",
              "      <td>-1.016087</td>\n",
              "      <td>0.278323</td>\n",
              "      <td>0.644711</td>\n",
              "      <td>-0.479339</td>\n",
              "      <td>-0.375919</td>\n",
              "      <td>-1.012794</td>\n",
              "      <td>-0.398022</td>\n",
              "      <td>-0.915974</td>\n",
              "      <td>-0.258383</td>\n",
              "      <td>-0.333098</td>\n",
              "      <td>-0.562295</td>\n",
              "      <td>0.844291</td>\n",
              "      <td>-0.622992</td>\n",
              "      <td>-0.391354</td>\n",
              "      <td>-0.525663</td>\n",
              "      <td>0.360754</td>\n",
              "    </tr>\n",
              "    <tr>\n",
              "      <th>4</th>\n",
              "      <td>4</td>\n",
              "      <td>-0.360018</td>\n",
              "      <td>0.518517</td>\n",
              "      <td>-0.507880</td>\n",
              "      <td>-0.385968</td>\n",
              "      <td>-0.479339</td>\n",
              "      <td>-0.476844</td>\n",
              "      <td>-1.012794</td>\n",
              "      <td>-0.398022</td>\n",
              "      <td>-0.915974</td>\n",
              "      <td>-0.675708</td>\n",
              "      <td>-0.482201</td>\n",
              "      <td>-0.562295</td>\n",
              "      <td>-0.910171</td>\n",
              "      <td>-0.374964</td>\n",
              "      <td>-0.273834</td>\n",
              "      <td>-0.525663</td>\n",
              "      <td>0.360754</td>\n",
              "    </tr>\n",
              "    <tr>\n",
              "      <th>...</th>\n",
              "      <td>...</td>\n",
              "      <td>...</td>\n",
              "      <td>...</td>\n",
              "      <td>...</td>\n",
              "      <td>...</td>\n",
              "      <td>...</td>\n",
              "      <td>...</td>\n",
              "      <td>...</td>\n",
              "      <td>...</td>\n",
              "      <td>...</td>\n",
              "      <td>...</td>\n",
              "      <td>...</td>\n",
              "      <td>...</td>\n",
              "      <td>...</td>\n",
              "      <td>...</td>\n",
              "      <td>...</td>\n",
              "      <td>...</td>\n",
              "      <td>...</td>\n",
              "    </tr>\n",
              "    <tr>\n",
              "      <th>8926</th>\n",
              "      <td>8926</td>\n",
              "      <td>-0.751524</td>\n",
              "      <td>0.518517</td>\n",
              "      <td>-0.362027</td>\n",
              "      <td>-0.397088</td>\n",
              "      <td>-0.133031</td>\n",
              "      <td>-0.476844</td>\n",
              "      <td>1.271643</td>\n",
              "      <td>-0.677987</td>\n",
              "      <td>1.182060</td>\n",
              "      <td>-0.675708</td>\n",
              "      <td>-0.482201</td>\n",
              "      <td>-0.354650</td>\n",
              "      <td>-0.965868</td>\n",
              "      <td>-0.503941</td>\n",
              "      <td>-0.367885</td>\n",
              "      <td>1.184407</td>\n",
              "      <td>-4.124481</td>\n",
              "    </tr>\n",
              "    <tr>\n",
              "      <th>8927</th>\n",
              "      <td>8927</td>\n",
              "      <td>-0.756142</td>\n",
              "      <td>0.518517</td>\n",
              "      <td>-0.357319</td>\n",
              "      <td>-0.397088</td>\n",
              "      <td>-0.122468</td>\n",
              "      <td>-0.476844</td>\n",
              "      <td>1.271643</td>\n",
              "      <td>-0.677987</td>\n",
              "      <td>1.182060</td>\n",
              "      <td>-0.675708</td>\n",
              "      <td>-0.482201</td>\n",
              "      <td>-0.354650</td>\n",
              "      <td>-0.965868</td>\n",
              "      <td>-0.522125</td>\n",
              "      <td>-0.258918</td>\n",
              "      <td>-0.525663</td>\n",
              "      <td>-4.124481</td>\n",
              "    </tr>\n",
              "    <tr>\n",
              "      <th>8928</th>\n",
              "      <td>8928</td>\n",
              "      <td>-0.754051</td>\n",
              "      <td>-0.184845</td>\n",
              "      <td>-0.439810</td>\n",
              "      <td>-0.397088</td>\n",
              "      <td>-0.307565</td>\n",
              "      <td>-0.476844</td>\n",
              "      <td>0.856290</td>\n",
              "      <td>-0.677987</td>\n",
              "      <td>0.762454</td>\n",
              "      <td>-0.675708</td>\n",
              "      <td>-0.482201</td>\n",
              "      <td>-0.396179</td>\n",
              "      <td>-0.965868</td>\n",
              "      <td>-0.593276</td>\n",
              "      <td>-0.351786</td>\n",
              "      <td>0.329372</td>\n",
              "      <td>-4.124481</td>\n",
              "    </tr>\n",
              "    <tr>\n",
              "      <th>8929</th>\n",
              "      <td>8929</td>\n",
              "      <td>-0.758982</td>\n",
              "      <td>-0.184845</td>\n",
              "      <td>-0.516362</td>\n",
              "      <td>-0.397088</td>\n",
              "      <td>-0.479339</td>\n",
              "      <td>-0.458914</td>\n",
              "      <td>-1.220469</td>\n",
              "      <td>-0.677987</td>\n",
              "      <td>-0.915974</td>\n",
              "      <td>0.158947</td>\n",
              "      <td>-0.183995</td>\n",
              "      <td>-0.603824</td>\n",
              "      <td>-1.105111</td>\n",
              "      <td>-0.603778</td>\n",
              "      <td>-0.364587</td>\n",
              "      <td>0.329372</td>\n",
              "      <td>-4.124481</td>\n",
              "    </tr>\n",
              "    <tr>\n",
              "      <th>8930</th>\n",
              "      <td>8930</td>\n",
              "      <td>-0.580770</td>\n",
              "      <td>-0.888203</td>\n",
              "      <td>0.063218</td>\n",
              "      <td>0.362716</td>\n",
              "      <td>-0.479339</td>\n",
              "      <td>-0.414539</td>\n",
              "      <td>0.440940</td>\n",
              "      <td>1.561746</td>\n",
              "      <td>-0.915974</td>\n",
              "      <td>0.993597</td>\n",
              "      <td>-0.183995</td>\n",
              "      <td>0.351344</td>\n",
              "      <td>-0.910171</td>\n",
              "      <td>-0.599896</td>\n",
              "      <td>-0.348968</td>\n",
              "      <td>-0.525663</td>\n",
              "      <td>-4.124481</td>\n",
              "    </tr>\n",
              "  </tbody>\n",
              "</table>\n",
              "<p>8931 rows × 18 columns</p>\n",
              "</div>\n",
              "    <div class=\"colab-df-buttons\">\n",
              "\n",
              "  <div class=\"colab-df-container\">\n",
              "    <button class=\"colab-df-convert\" onclick=\"convertToInteractive('df-9efe7415-5d36-451a-ab8c-de8d2143112a')\"\n",
              "            title=\"Convert this dataframe to an interactive table.\"\n",
              "            style=\"display:none;\">\n",
              "\n",
              "  <svg xmlns=\"http://www.w3.org/2000/svg\" height=\"24px\" viewBox=\"0 -960 960 960\">\n",
              "    <path d=\"M120-120v-720h720v720H120Zm60-500h600v-160H180v160Zm220 220h160v-160H400v160Zm0 220h160v-160H400v160ZM180-400h160v-160H180v160Zm440 0h160v-160H620v160ZM180-180h160v-160H180v160Zm440 0h160v-160H620v160Z\"/>\n",
              "  </svg>\n",
              "    </button>\n",
              "\n",
              "  <style>\n",
              "    .colab-df-container {\n",
              "      display:flex;\n",
              "      gap: 12px;\n",
              "    }\n",
              "\n",
              "    .colab-df-convert {\n",
              "      background-color: #E8F0FE;\n",
              "      border: none;\n",
              "      border-radius: 50%;\n",
              "      cursor: pointer;\n",
              "      display: none;\n",
              "      fill: #1967D2;\n",
              "      height: 32px;\n",
              "      padding: 0 0 0 0;\n",
              "      width: 32px;\n",
              "    }\n",
              "\n",
              "    .colab-df-convert:hover {\n",
              "      background-color: #E2EBFA;\n",
              "      box-shadow: 0px 1px 2px rgba(60, 64, 67, 0.3), 0px 1px 3px 1px rgba(60, 64, 67, 0.15);\n",
              "      fill: #174EA6;\n",
              "    }\n",
              "\n",
              "    .colab-df-buttons div {\n",
              "      margin-bottom: 4px;\n",
              "    }\n",
              "\n",
              "    [theme=dark] .colab-df-convert {\n",
              "      background-color: #3B4455;\n",
              "      fill: #D2E3FC;\n",
              "    }\n",
              "\n",
              "    [theme=dark] .colab-df-convert:hover {\n",
              "      background-color: #434B5C;\n",
              "      box-shadow: 0px 1px 3px 1px rgba(0, 0, 0, 0.15);\n",
              "      filter: drop-shadow(0px 1px 2px rgba(0, 0, 0, 0.3));\n",
              "      fill: #FFFFFF;\n",
              "    }\n",
              "  </style>\n",
              "\n",
              "    <script>\n",
              "      const buttonEl =\n",
              "        document.querySelector('#df-9efe7415-5d36-451a-ab8c-de8d2143112a button.colab-df-convert');\n",
              "      buttonEl.style.display =\n",
              "        google.colab.kernel.accessAllowed ? 'block' : 'none';\n",
              "\n",
              "      async function convertToInteractive(key) {\n",
              "        const element = document.querySelector('#df-9efe7415-5d36-451a-ab8c-de8d2143112a');\n",
              "        const dataTable =\n",
              "          await google.colab.kernel.invokeFunction('convertToInteractive',\n",
              "                                                    [key], {});\n",
              "        if (!dataTable) return;\n",
              "\n",
              "        const docLinkHtml = 'Like what you see? Visit the ' +\n",
              "          '<a target=\"_blank\" href=https://colab.research.google.com/notebooks/data_table.ipynb>data table notebook</a>'\n",
              "          + ' to learn more about interactive tables.';\n",
              "        element.innerHTML = '';\n",
              "        dataTable['output_type'] = 'display_data';\n",
              "        await google.colab.output.renderOutput(dataTable, element);\n",
              "        const docLink = document.createElement('div');\n",
              "        docLink.innerHTML = docLinkHtml;\n",
              "        element.appendChild(docLink);\n",
              "      }\n",
              "    </script>\n",
              "  </div>\n",
              "\n",
              "\n",
              "<div id=\"df-8cdd789b-260d-4869-b395-9bf5213ff91c\">\n",
              "  <button class=\"colab-df-quickchart\" onclick=\"quickchart('df-8cdd789b-260d-4869-b395-9bf5213ff91c')\"\n",
              "            title=\"Suggest charts\"\n",
              "            style=\"display:none;\">\n",
              "\n",
              "<svg xmlns=\"http://www.w3.org/2000/svg\" height=\"24px\"viewBox=\"0 0 24 24\"\n",
              "     width=\"24px\">\n",
              "    <g>\n",
              "        <path d=\"M19 3H5c-1.1 0-2 .9-2 2v14c0 1.1.9 2 2 2h14c1.1 0 2-.9 2-2V5c0-1.1-.9-2-2-2zM9 17H7v-7h2v7zm4 0h-2V7h2v10zm4 0h-2v-4h2v4z\"/>\n",
              "    </g>\n",
              "</svg>\n",
              "  </button>\n",
              "\n",
              "<style>\n",
              "  .colab-df-quickchart {\n",
              "      --bg-color: #E8F0FE;\n",
              "      --fill-color: #1967D2;\n",
              "      --hover-bg-color: #E2EBFA;\n",
              "      --hover-fill-color: #174EA6;\n",
              "      --disabled-fill-color: #AAA;\n",
              "      --disabled-bg-color: #DDD;\n",
              "  }\n",
              "\n",
              "  [theme=dark] .colab-df-quickchart {\n",
              "      --bg-color: #3B4455;\n",
              "      --fill-color: #D2E3FC;\n",
              "      --hover-bg-color: #434B5C;\n",
              "      --hover-fill-color: #FFFFFF;\n",
              "      --disabled-bg-color: #3B4455;\n",
              "      --disabled-fill-color: #666;\n",
              "  }\n",
              "\n",
              "  .colab-df-quickchart {\n",
              "    background-color: var(--bg-color);\n",
              "    border: none;\n",
              "    border-radius: 50%;\n",
              "    cursor: pointer;\n",
              "    display: none;\n",
              "    fill: var(--fill-color);\n",
              "    height: 32px;\n",
              "    padding: 0;\n",
              "    width: 32px;\n",
              "  }\n",
              "\n",
              "  .colab-df-quickchart:hover {\n",
              "    background-color: var(--hover-bg-color);\n",
              "    box-shadow: 0 1px 2px rgba(60, 64, 67, 0.3), 0 1px 3px 1px rgba(60, 64, 67, 0.15);\n",
              "    fill: var(--button-hover-fill-color);\n",
              "  }\n",
              "\n",
              "  .colab-df-quickchart-complete:disabled,\n",
              "  .colab-df-quickchart-complete:disabled:hover {\n",
              "    background-color: var(--disabled-bg-color);\n",
              "    fill: var(--disabled-fill-color);\n",
              "    box-shadow: none;\n",
              "  }\n",
              "\n",
              "  .colab-df-spinner {\n",
              "    border: 2px solid var(--fill-color);\n",
              "    border-color: transparent;\n",
              "    border-bottom-color: var(--fill-color);\n",
              "    animation:\n",
              "      spin 1s steps(1) infinite;\n",
              "  }\n",
              "\n",
              "  @keyframes spin {\n",
              "    0% {\n",
              "      border-color: transparent;\n",
              "      border-bottom-color: var(--fill-color);\n",
              "      border-left-color: var(--fill-color);\n",
              "    }\n",
              "    20% {\n",
              "      border-color: transparent;\n",
              "      border-left-color: var(--fill-color);\n",
              "      border-top-color: var(--fill-color);\n",
              "    }\n",
              "    30% {\n",
              "      border-color: transparent;\n",
              "      border-left-color: var(--fill-color);\n",
              "      border-top-color: var(--fill-color);\n",
              "      border-right-color: var(--fill-color);\n",
              "    }\n",
              "    40% {\n",
              "      border-color: transparent;\n",
              "      border-right-color: var(--fill-color);\n",
              "      border-top-color: var(--fill-color);\n",
              "    }\n",
              "    60% {\n",
              "      border-color: transparent;\n",
              "      border-right-color: var(--fill-color);\n",
              "    }\n",
              "    80% {\n",
              "      border-color: transparent;\n",
              "      border-right-color: var(--fill-color);\n",
              "      border-bottom-color: var(--fill-color);\n",
              "    }\n",
              "    90% {\n",
              "      border-color: transparent;\n",
              "      border-bottom-color: var(--fill-color);\n",
              "    }\n",
              "  }\n",
              "</style>\n",
              "\n",
              "  <script>\n",
              "    async function quickchart(key) {\n",
              "      const quickchartButtonEl =\n",
              "        document.querySelector('#' + key + ' button');\n",
              "      quickchartButtonEl.disabled = true;  // To prevent multiple clicks.\n",
              "      quickchartButtonEl.classList.add('colab-df-spinner');\n",
              "      try {\n",
              "        const charts = await google.colab.kernel.invokeFunction(\n",
              "            'suggestCharts', [key], {});\n",
              "      } catch (error) {\n",
              "        console.error('Error during call to suggestCharts:', error);\n",
              "      }\n",
              "      quickchartButtonEl.classList.remove('colab-df-spinner');\n",
              "      quickchartButtonEl.classList.add('colab-df-quickchart-complete');\n",
              "    }\n",
              "    (() => {\n",
              "      let quickchartButtonEl =\n",
              "        document.querySelector('#df-8cdd789b-260d-4869-b395-9bf5213ff91c button');\n",
              "      quickchartButtonEl.style.display =\n",
              "        google.colab.kernel.accessAllowed ? 'block' : 'none';\n",
              "    })();\n",
              "  </script>\n",
              "</div>\n",
              "\n",
              "  <div id=\"id_e55822ac-ee75-4252-816c-b323363c0d08\">\n",
              "    <style>\n",
              "      .colab-df-generate {\n",
              "        background-color: #E8F0FE;\n",
              "        border: none;\n",
              "        border-radius: 50%;\n",
              "        cursor: pointer;\n",
              "        display: none;\n",
              "        fill: #1967D2;\n",
              "        height: 32px;\n",
              "        padding: 0 0 0 0;\n",
              "        width: 32px;\n",
              "      }\n",
              "\n",
              "      .colab-df-generate:hover {\n",
              "        background-color: #E2EBFA;\n",
              "        box-shadow: 0px 1px 2px rgba(60, 64, 67, 0.3), 0px 1px 3px 1px rgba(60, 64, 67, 0.15);\n",
              "        fill: #174EA6;\n",
              "      }\n",
              "\n",
              "      [theme=dark] .colab-df-generate {\n",
              "        background-color: #3B4455;\n",
              "        fill: #D2E3FC;\n",
              "      }\n",
              "\n",
              "      [theme=dark] .colab-df-generate:hover {\n",
              "        background-color: #434B5C;\n",
              "        box-shadow: 0px 1px 3px 1px rgba(0, 0, 0, 0.15);\n",
              "        filter: drop-shadow(0px 1px 2px rgba(0, 0, 0, 0.3));\n",
              "        fill: #FFFFFF;\n",
              "      }\n",
              "    </style>\n",
              "    <button class=\"colab-df-generate\" onclick=\"generateWithVariable('df_Standardize')\"\n",
              "            title=\"Generate code using this dataframe.\"\n",
              "            style=\"display:none;\">\n",
              "\n",
              "  <svg xmlns=\"http://www.w3.org/2000/svg\" height=\"24px\"viewBox=\"0 0 24 24\"\n",
              "       width=\"24px\">\n",
              "    <path d=\"M7,19H8.4L18.45,9,17,7.55,7,17.6ZM5,21V16.75L18.45,3.32a2,2,0,0,1,2.83,0l1.4,1.43a1.91,1.91,0,0,1,.58,1.4,1.91,1.91,0,0,1-.58,1.4L9.25,21ZM18.45,9,17,7.55Zm-12,3A5.31,5.31,0,0,0,4.9,8.1,5.31,5.31,0,0,0,1,6.5,5.31,5.31,0,0,0,4.9,4.9,5.31,5.31,0,0,0,6.5,1,5.31,5.31,0,0,0,8.1,4.9,5.31,5.31,0,0,0,12,6.5,5.46,5.46,0,0,0,6.5,12Z\"/>\n",
              "  </svg>\n",
              "    </button>\n",
              "    <script>\n",
              "      (() => {\n",
              "      const buttonEl =\n",
              "        document.querySelector('#id_e55822ac-ee75-4252-816c-b323363c0d08 button.colab-df-generate');\n",
              "      buttonEl.style.display =\n",
              "        google.colab.kernel.accessAllowed ? 'block' : 'none';\n",
              "\n",
              "      buttonEl.onclick = () => {\n",
              "        google.colab.notebook.generateWithVariable('df_Standardize');\n",
              "      }\n",
              "      })();\n",
              "    </script>\n",
              "  </div>\n",
              "\n",
              "    </div>\n",
              "  </div>\n"
            ],
            "application/vnd.google.colaboratory.intrinsic+json": {
              "type": "dataframe",
              "variable_name": "df_Standardize",
              "summary": "{\n  \"name\": \"df_Standardize\",\n  \"rows\": 8931,\n  \"fields\": [\n    {\n      \"column\": \"Unnamed: 0\",\n      \"properties\": {\n        \"dtype\": \"number\",\n        \"std\": 2578,\n        \"min\": 0,\n        \"max\": 8930,\n        \"num_unique_values\": 8931,\n        \"samples\": [\n          4309,\n          4329,\n          1897\n        ],\n        \"semantic_type\": \"\",\n        \"description\": \"\"\n      }\n    },\n    {\n      \"column\": \"BALANCE\",\n      \"properties\": {\n        \"dtype\": \"number\",\n        \"std\": 1.0000559894740229,\n        \"min\": -0.7656581780924674,\n        \"max\": 6.4677138214916186,\n        \"num_unique_values\": 8852,\n        \"samples\": [\n          -0.7567802884896128,\n          -0.0252262426322965,\n          -0.3485635237042256\n        ],\n        \"semantic_type\": \"\",\n        \"description\": \"\"\n      }\n    },\n    {\n      \"column\": \"BALANCE_FREQUENCY\",\n      \"properties\": {\n        \"dtype\": \"number\",\n        \"std\": 1.000055989474023,\n        \"min\": -3.70164843138122,\n        \"max\": 0.5185170761378828,\n        \"num_unique_values\": 43,\n        \"samples\": [\n          -1.8930078796582503,\n          -0.3255160253659375,\n          -2.8576153298773987\n        ],\n        \"semantic_type\": \"\",\n        \"description\": \"\"\n      }\n    },\n    {\n      \"column\": \"PURCHASES\",\n      \"properties\": {\n        \"dtype\": \"number\",\n        \"std\": 1.0000559894740229,\n        \"min\": -0.5163624450728383,\n        \"max\": 16.734408265618853,\n        \"num_unique_values\": 6187,\n        \"samples\": [\n          0.2646775760100835,\n          0.5636682165557756,\n          -0.2707361044621251\n        ],\n        \"semantic_type\": \"\",\n        \"description\": \"\"\n      }\n    },\n    {\n      \"column\": \"ONEOFF_PURCHASES\",\n      \"properties\": {\n        \"dtype\": \"number\",\n        \"std\": 1.0000559894740229,\n        \"min\": -0.3970880150693775,\n        \"max\": 18.05326277316472,\n        \"num_unique_values\": 4001,\n        \"samples\": [\n          -0.1189924192092889,\n          0.0857463761733859,\n          2.851468028128465\n        ],\n        \"semantic_type\": \"\",\n        \"description\": \"\"\n      }\n    },\n    {\n      \"column\": \"INSTALLMENTS_PURCHASES\",\n      \"properties\": {\n        \"dtype\": \"number\",\n        \"std\": 1.0000559894740226,\n        \"min\": -0.4793387552294127,\n        \"max\": 16.990787162042185,\n        \"num_unique_values\": 4437,\n        \"samples\": [\n          -0.1302954866526066,\n          -0.2847134087232058,\n          0.2451086258736985\n        ],\n        \"semantic_type\": \"\",\n        \"description\": \"\"\n      }\n    },\n    {\n      \"column\": \"CASH_ADVANCE\",\n      \"properties\": {\n        \"dtype\": \"number\",\n        \"std\": 1.0000559894740229,\n        \"min\": -0.4768438233931794,\n        \"max\": 13.884071130324196,\n        \"num_unique_values\": 4312,\n        \"samples\": [\n          0.1438252081427159,\n          -0.3458994261772198,\n          2.405365783278361\n        ],\n        \"semantic_type\": \"\",\n        \"description\": \"\"\n      }\n    },\n    {\n      \"column\": \"PURCHASES_FREQUENCY\",\n      \"properties\": {\n        \"dtype\": \"number\",\n        \"std\": 1.0000559894740226,\n        \"min\": -1.2204689691464836,\n        \"max\": 1.2716427433442603,\n        \"num_unique_values\": 47,\n        \"samples\": [\n          0.7732204008461118,\n          0.1640386453980243,\n          -0.7220466266483347\n        ],\n        \"semantic_type\": \"\",\n        \"description\": \"\"\n      }\n    },\n    {\n      \"column\": \"ONEOFF_PURCHASES_FREQUENCY\",\n      \"properties\": {\n        \"dtype\": \"number\",\n        \"std\": 1.0000559894740229,\n        \"min\": -0.6779873105409024,\n        \"max\": 2.6816116572181588,\n        \"num_unique_values\": 47,\n        \"samples\": [\n          2.37619387465815,\n          1.4217620443085108,\n          -0.0671517454208854\n        ],\n        \"semantic_type\": \"\",\n        \"description\": \"\"\n      }\n    },\n    {\n      \"column\": \"PURCHASES_INSTALLMENTS_FREQUENCY\",\n      \"properties\": {\n        \"dtype\": \"number\",\n        \"std\": 1.0000559894740226,\n        \"min\": -0.9159743932023892,\n        \"max\": 1.60166740706444,\n        \"num_unique_values\": 47,\n        \"samples\": [\n          1.2420046524037218,\n          -0.3564989970634938,\n          -0.5563116385416708\n        ],\n        \"semantic_type\": \"\",\n        \"description\": \"\"\n      }\n    },\n    {\n      \"column\": \"CASH_ADVANCE_FREQUENCY\",\n      \"properties\": {\n        \"dtype\": \"number\",\n        \"std\": 1.0000559894740226,\n        \"min\": -0.6757080561966606,\n        \"max\": 6.836174132594206,\n        \"num_unique_values\": 54,\n        \"samples\": [\n          0.4371622663083285,\n          3.4216831391295317,\n          2.8298369652390765\n        ],\n        \"semantic_type\": \"\",\n        \"description\": \"\"\n      }\n    },\n    {\n      \"column\": \"CASH_ADVANCE_TRX\",\n      \"properties\": {\n        \"dtype\": \"number\",\n        \"std\": 1.0000559894740229,\n        \"min\": -0.4822007446952372,\n        \"max\": 17.857438027502912,\n        \"num_unique_values\": 65,\n        \"samples\": [\n          6.525628704843893,\n          8.613067264281081,\n          -0.4822007446952372\n        ],\n        \"semantic_type\": \"\",\n        \"description\": \"\"\n      }\n    },\n    {\n      \"column\": \"PURCHASES_TRX\",\n      \"properties\": {\n        \"dtype\": \"number\",\n        \"std\": 1.0000559894740229,\n        \"min\": -0.603823794083462,\n        \"max\": 13.80674457695278,\n        \"num_unique_values\": 171,\n        \"samples\": [\n          6.954457023001829,\n          0.268285530964841,\n          3.5906067692440904\n        ],\n        \"semantic_type\": \"\",\n        \"description\": \"\"\n      }\n    },\n    {\n      \"column\": \"CREDIT_LIMIT\",\n      \"properties\": {\n        \"dtype\": \"number\",\n        \"std\": 1.0000559894740229,\n        \"min\": -1.2304296228603817,\n        \"max\": 7.110225346743206,\n        \"num_unique_values\": 202,\n        \"samples\": [\n          0.8721394930163157,\n          1.2620198588742464,\n          -0.7987763606605299\n        ],\n        \"semantic_type\": \"\",\n        \"description\": \"\"\n      }\n    },\n    {\n      \"column\": \"PAYMENTS\",\n      \"properties\": {\n        \"dtype\": \"number\",\n        \"std\": 1.000055989474023,\n        \"min\": -0.6229920615348324,\n        \"max\": 17.92295608469287,\n        \"num_unique_values\": 8692,\n        \"samples\": [\n          -0.2291732521192568,\n          1.8175244889122293,\n          -0.4729437693064969\n        ],\n        \"semantic_type\": \"\",\n        \"description\": \"\"\n      }\n    },\n    {\n      \"column\": \"MINIMUM_PAYMENTS\",\n      \"properties\": {\n        \"dtype\": \"number\",\n        \"std\": 1.0000559894740229,\n        \"min\": -0.3913539643708932,\n        \"max\": 26.67087733713375,\n        \"num_unique_values\": 8684,\n        \"samples\": [\n          -0.3102176034481718,\n          0.1249531777549049,\n          -0.3523069900906932\n        ],\n        \"semantic_type\": \"\",\n        \"description\": \"\"\n      }\n    },\n    {\n      \"column\": \"PRC_FULL_PAYMENT\",\n      \"properties\": {\n        \"dtype\": \"number\",\n        \"std\": 1.000055989474023,\n        \"min\": -0.5256633147058551,\n        \"max\": 2.894476841217404,\n        \"num_unique_values\": 47,\n        \"samples\": [\n          1.469417302869327,\n          0.4071012495986273,\n          -0.1836492991135292\n        ],\n        \"semantic_type\": \"\",\n        \"description\": \"\"\n      }\n    },\n    {\n      \"column\": \"TENURE\",\n      \"properties\": {\n        \"dtype\": \"number\",\n        \"std\": 1.0000559894740229,\n        \"min\": -4.124480556410314,\n        \"max\": 0.3607539410286635,\n        \"num_unique_values\": 7,\n        \"samples\": [\n          0.3607539410286635,\n          -2.6294023905973214,\n          -3.376941473503818\n        ],\n        \"semantic_type\": \"\",\n        \"description\": \"\"\n      }\n    }\n  ]\n}"
            }
          },
          "metadata": {},
          "execution_count": 46
        }
      ],
      "source": [
        "# read data\n",
        "data=pd.read_csv('/content/drive/My Drive/data_standardize.csv')\n",
        "df_Standardize=pd.DataFrame(data)\n",
        "df_Standardize"
      ]
    },
    {
      "cell_type": "code",
      "execution_count": 47,
      "metadata": {
        "id": "aq6YWeJNxY72"
      },
      "outputs": [],
      "source": [
        "K = 3\n",
        "df_Standardize=df_Standardize.to_numpy()"
      ]
    },
    {
      "cell_type": "markdown",
      "source": [
        "Using numba to optimize sequential KMeans code"
      ],
      "metadata": {
        "id": "bywK3uLj7FDR"
      }
    },
    {
      "cell_type": "code",
      "source": [
        "@jit()\n",
        "# initial centers\n",
        "def kmeans_init_centers(df_Standardize, K):\n",
        "    centers = np.empty((K, df_Standardize.shape[1]))\n",
        "    for i in range(K):\n",
        "        index = np.random.choice(df_Standardize.shape[0])\n",
        "        centers[i, :] = df_Standardize[index, :]\n",
        "    return centers"
      ],
      "metadata": {
        "colab": {
          "base_uri": "https://localhost:8080/"
        },
        "id": "Cxyu1tY67CyT",
        "outputId": "5c104f5f-6ad7-45a9-cb49-8ab27d3ac60b"
      },
      "execution_count": 48,
      "outputs": [
        {
          "output_type": "stream",
          "name": "stderr",
          "text": [
            "<ipython-input-48-4481fbd6117e>:1: NumbaDeprecationWarning: The 'nopython' keyword argument was not supplied to the 'numba.jit' decorator. The implicit default value for this argument is currently False, but it will be changed to True in Numba 0.59.0. See https://numba.readthedocs.io/en/stable/reference/deprecation.html#deprecation-of-object-mode-fall-back-behaviour-when-using-jit for details.\n",
            "  @jit()\n"
          ]
        }
      ]
    },
    {
      "cell_type": "code",
      "source": [
        "@jit()\n",
        "# calculate distance between data points using Euclid distance\n",
        "def kmeans_cal_distance(point_1, point_2):\n",
        "    sum_point = 0.0\n",
        "    for i in range(point_1.shape[0]):\n",
        "        sum_point += (point_1[i] - point_2[i]) ** 2\n",
        "    return np.sqrt(sum_point)"
      ],
      "metadata": {
        "colab": {
          "base_uri": "https://localhost:8080/"
        },
        "id": "pAousHlv7DSC",
        "outputId": "147fd141-304c-4ee7-f669-d97153724d49"
      },
      "execution_count": 49,
      "outputs": [
        {
          "output_type": "stream",
          "name": "stderr",
          "text": [
            "<ipython-input-49-64de4ff6742b>:1: NumbaDeprecationWarning: The 'nopython' keyword argument was not supplied to the 'numba.jit' decorator. The implicit default value for this argument is currently False, but it will be changed to True in Numba 0.59.0. See https://numba.readthedocs.io/en/stable/reference/deprecation.html#deprecation-of-object-mode-fall-back-behaviour-when-using-jit for details.\n",
            "  @jit()\n"
          ]
        }
      ]
    },
    {
      "cell_type": "code",
      "source": [
        "@jit()\n",
        "# assign label for each point corresponding to each cluster that point related\n",
        "def kmeans_assign_labels(df_Standardize, centers):\n",
        "    assigned_labels = np.empty(df_Standardize.shape[0], dtype=np.int32)\n",
        "    for i in range(df_Standardize.shape[0]):\n",
        "        distance = np.empty(centers.shape[0])\n",
        "        for j in range(centers.shape[0]):\n",
        "            distance[j] = kmeans_cal_distance(centers[j, :], df_Standardize[i, :])\n",
        "        assigned_labels[i] = np.argmin(distance)\n",
        "    return assigned_labels"
      ],
      "metadata": {
        "colab": {
          "base_uri": "https://localhost:8080/"
        },
        "id": "uGw7KrL37Dbh",
        "outputId": "a1900de9-49b4-4689-f1bf-0cd8bb12d08a"
      },
      "execution_count": 50,
      "outputs": [
        {
          "output_type": "stream",
          "name": "stderr",
          "text": [
            "<ipython-input-50-65fafa1095a3>:1: NumbaDeprecationWarning: The 'nopython' keyword argument was not supplied to the 'numba.jit' decorator. The implicit default value for this argument is currently False, but it will be changed to True in Numba 0.59.0. See https://numba.readthedocs.io/en/stable/reference/deprecation.html#deprecation-of-object-mode-fall-back-behaviour-when-using-jit for details.\n",
            "  @jit()\n"
          ]
        }
      ]
    },
    {
      "cell_type": "code",
      "source": [
        "# update new centroids\n",
        "@jit()\n",
        "def kmeans_update_centroids(df_Standardize, labels, K):\n",
        "    centers = np.zeros((K, df_Standardize.shape[1]))\n",
        "    counts = np.zeros(K, dtype=np.int32)\n",
        "    for i in range(df_Standardize.shape[0]):\n",
        "        label = labels[i]\n",
        "        centers[label, :] += df_Standardize[i, :]\n",
        "        counts[label] += 1\n",
        "\n",
        "    for k in range(K):\n",
        "        if counts[k] > 0:\n",
        "            centers[k, :] /= counts[k]\n",
        "\n",
        "    return centers"
      ],
      "metadata": {
        "colab": {
          "base_uri": "https://localhost:8080/"
        },
        "id": "-FYbKHJq7DjB",
        "outputId": "44b29807-a441-4262-a83b-d2e0f62c6e74"
      },
      "execution_count": 51,
      "outputs": [
        {
          "output_type": "stream",
          "name": "stderr",
          "text": [
            "<ipython-input-51-224023e5bab3>:2: NumbaDeprecationWarning: The 'nopython' keyword argument was not supplied to the 'numba.jit' decorator. The implicit default value for this argument is currently False, but it will be changed to True in Numba 0.59.0. See https://numba.readthedocs.io/en/stable/reference/deprecation.html#deprecation-of-object-mode-fall-back-behaviour-when-using-jit for details.\n",
            "  @jit()\n"
          ]
        }
      ]
    },
    {
      "cell_type": "code",
      "source": [
        "# stop condition\n",
        "@jit()\n",
        "def has_converged(centers, new_centers):\n",
        "    # return True if two sets of centers are the same\n",
        "    for i in range(len(centers)):\n",
        "        for j in range(len(centers[i])):\n",
        "            if centers[i][j] != new_centers[i][j]:\n",
        "                return False\n",
        "    return True"
      ],
      "metadata": {
        "colab": {
          "base_uri": "https://localhost:8080/"
        },
        "id": "bT8_CxQ97Dp4",
        "outputId": "4cd37624-f6c4-4e02-dc23-35b7632b7aa5"
      },
      "execution_count": 52,
      "outputs": [
        {
          "output_type": "stream",
          "name": "stderr",
          "text": [
            "<ipython-input-52-c2374751bcd1>:2: NumbaDeprecationWarning: The 'nopython' keyword argument was not supplied to the 'numba.jit' decorator. The implicit default value for this argument is currently False, but it will be changed to True in Numba 0.59.0. See https://numba.readthedocs.io/en/stable/reference/deprecation.html#deprecation-of-object-mode-fall-back-behaviour-when-using-jit for details.\n",
            "  @jit()\n"
          ]
        }
      ]
    },
    {
      "cell_type": "code",
      "source": [
        "@jit()\n",
        "# main kmeans function\n",
        "def kmeans(df_Standardize, K):\n",
        "    centers = kmeans_init_centers(df_Standardize, K)\n",
        "    it = 0\n",
        "    while True:\n",
        "        assigned_labels = kmeans_assign_labels(df_Standardize, centers)\n",
        "        new_centers = kmeans_update_centroids(df_Standardize, assigned_labels, K)\n",
        "        if has_converged(centers, new_centers):\n",
        "            break\n",
        "        centers = new_centers\n",
        "        it += 1\n",
        "    return centers, assigned_labels, it"
      ],
      "metadata": {
        "colab": {
          "base_uri": "https://localhost:8080/"
        },
        "id": "jZpIJs5W7jUx",
        "outputId": "76f6d02f-756e-4173-9263-21dfefd14271"
      },
      "execution_count": 53,
      "outputs": [
        {
          "output_type": "stream",
          "name": "stderr",
          "text": [
            "<ipython-input-53-2a5a6f0876ea>:1: NumbaDeprecationWarning: The 'nopython' keyword argument was not supplied to the 'numba.jit' decorator. The implicit default value for this argument is currently False, but it will be changed to True in Numba 0.59.0. See https://numba.readthedocs.io/en/stable/reference/deprecation.html#deprecation-of-object-mode-fall-back-behaviour-when-using-jit for details.\n",
            "  @jit()\n"
          ]
        }
      ]
    },
    {
      "cell_type": "code",
      "source": [
        "start = time.time()\n",
        "(centers, labels, it) = kmeans(df_Standardize, K)\n",
        "end = time.time()\n",
        "print(f'Processing time: {end - start} s')\n",
        "print('Centers found by k-means algorithm:')\n",
        "print(centers[-1])\n",
        "print('='*60)"
      ],
      "metadata": {
        "colab": {
          "base_uri": "https://localhost:8080/"
        },
        "id": "4SKn_ACg7lLY",
        "outputId": "2450f6f7-dcd8-4089-9f52-74649cae499d"
      },
      "execution_count": 54,
      "outputs": [
        {
          "output_type": "stream",
          "name": "stdout",
          "text": [
            "Processing time: 2.3774335384368896 s\n",
            "Centers found by k-means algorithm:\n",
            "[ 4.46700000e+03  3.81094862e-02  5.02189895e-02  5.83274799e-04\n",
            "  5.36927127e-03 -7.84065808e-03  6.31988406e-03 -4.67442461e-02\n",
            "  4.47162453e-02 -6.93487645e-02  1.87956259e-02  1.88486182e-02\n",
            " -3.75253784e-03  7.48275532e-02  1.65785762e-02  4.62410403e-03\n",
            " -2.75550847e-02  7.75076913e-02]\n",
            "============================================================\n"
          ]
        }
      ]
    },
    {
      "cell_type": "markdown",
      "source": [
        "Using numba to covert sequential KMeans code to machine code and run parallel on CPU"
      ],
      "metadata": {
        "id": "0gSc5zEM7osD"
      }
    },
    {
      "cell_type": "code",
      "execution_count": 55,
      "metadata": {
        "id": "ZqNTALDTxY72",
        "colab": {
          "base_uri": "https://localhost:8080/"
        },
        "outputId": "57cb3411-8809-4e8b-8818-34d96ab7e278"
      },
      "outputs": [
        {
          "output_type": "stream",
          "name": "stderr",
          "text": [
            "<ipython-input-55-4481fbd6117e>:1: NumbaDeprecationWarning: The 'nopython' keyword argument was not supplied to the 'numba.jit' decorator. The implicit default value for this argument is currently False, but it will be changed to True in Numba 0.59.0. See https://numba.readthedocs.io/en/stable/reference/deprecation.html#deprecation-of-object-mode-fall-back-behaviour-when-using-jit for details.\n",
            "  @jit()\n"
          ]
        }
      ],
      "source": [
        "@jit()\n",
        "# initial centers\n",
        "def kmeans_init_centers(df_Standardize, K):\n",
        "    centers = np.empty((K, df_Standardize.shape[1]))\n",
        "    for i in range(K):\n",
        "        index = np.random.choice(df_Standardize.shape[0])\n",
        "        centers[i, :] = df_Standardize[index, :]\n",
        "    return centers"
      ]
    },
    {
      "cell_type": "code",
      "execution_count": 56,
      "metadata": {
        "id": "rbwywNZMxY72",
        "colab": {
          "base_uri": "https://localhost:8080/"
        },
        "outputId": "355d2140-0ea3-4b58-975a-0a95d574dfa9"
      },
      "outputs": [
        {
          "output_type": "stream",
          "name": "stderr",
          "text": [
            "<ipython-input-56-6db6717e833a>:1: NumbaDeprecationWarning: The 'nopython' keyword argument was not supplied to the 'numba.jit' decorator. The implicit default value for this argument is currently False, but it will be changed to True in Numba 0.59.0. See https://numba.readthedocs.io/en/stable/reference/deprecation.html#deprecation-of-object-mode-fall-back-behaviour-when-using-jit for details.\n",
            "  @jit(parallel=True)\n"
          ]
        }
      ],
      "source": [
        "@jit(parallel=True)\n",
        "# calculate distance between data points using Euclid distance\n",
        "def kmeans_cal_distance(point_1, point_2):\n",
        "    sum_point = 0.0\n",
        "    for i in prange(point_1.shape[0]):\n",
        "        sum_point += (point_1[i] - point_2[i]) ** 2\n",
        "    return np.sqrt(sum_point)"
      ]
    },
    {
      "cell_type": "code",
      "execution_count": 57,
      "metadata": {
        "id": "S0FheVmpxY72",
        "colab": {
          "base_uri": "https://localhost:8080/"
        },
        "outputId": "016dfb2a-06f6-4191-ed8c-4db925918ba4"
      },
      "outputs": [
        {
          "output_type": "stream",
          "name": "stderr",
          "text": [
            "<ipython-input-57-7b3b6e2f774f>:1: NumbaDeprecationWarning: The 'nopython' keyword argument was not supplied to the 'numba.jit' decorator. The implicit default value for this argument is currently False, but it will be changed to True in Numba 0.59.0. See https://numba.readthedocs.io/en/stable/reference/deprecation.html#deprecation-of-object-mode-fall-back-behaviour-when-using-jit for details.\n",
            "  @jit(parallel=True)\n"
          ]
        }
      ],
      "source": [
        "@jit(parallel=True)\n",
        "# assign label for each point corresponding to each cluster that point related\n",
        "def kmeans_assign_labels(df_Standardize, centers):\n",
        "    assigned_labels = np.empty(df_Standardize.shape[0], dtype=np.int32)\n",
        "    for i in prange(df_Standardize.shape[0]):\n",
        "        distance = np.empty(centers.shape[0])\n",
        "        for j in range(centers.shape[0]):\n",
        "            distance[j] = kmeans_cal_distance(centers[j, :], df_Standardize[i, :])\n",
        "        assigned_labels[i] = np.argmin(distance)\n",
        "    return assigned_labels"
      ]
    },
    {
      "cell_type": "code",
      "execution_count": 58,
      "metadata": {
        "id": "N8I0KGzBxY73",
        "colab": {
          "base_uri": "https://localhost:8080/"
        },
        "outputId": "eafb70bc-0e67-43fa-85fe-e6b5034103c9"
      },
      "outputs": [
        {
          "output_type": "stream",
          "name": "stderr",
          "text": [
            "<ipython-input-58-8a0ec14d7fd5>:2: NumbaDeprecationWarning: The 'nopython' keyword argument was not supplied to the 'numba.jit' decorator. The implicit default value for this argument is currently False, but it will be changed to True in Numba 0.59.0. See https://numba.readthedocs.io/en/stable/reference/deprecation.html#deprecation-of-object-mode-fall-back-behaviour-when-using-jit for details.\n",
            "  @jit(parallel=True)\n"
          ]
        }
      ],
      "source": [
        "# update new centroids\n",
        "@jit(parallel=True)\n",
        "def kmeans_update_centroids(df_Standardize, labels, K):\n",
        "    centers = np.zeros((K, df_Standardize.shape[1]))\n",
        "    counts = np.zeros(K, dtype=np.int32)\n",
        "    for i in prange(df_Standardize.shape[0]):\n",
        "        label = labels[i]\n",
        "        centers[label, :] += df_Standardize[i, :]\n",
        "        counts[label] += 1\n",
        "\n",
        "    for k in prange(K):\n",
        "        if counts[k] > 0:\n",
        "            centers[k, :] /= counts[k]\n",
        "\n",
        "    return centers"
      ]
    },
    {
      "cell_type": "code",
      "execution_count": 59,
      "metadata": {
        "id": "7ryUkrdKxY73",
        "colab": {
          "base_uri": "https://localhost:8080/"
        },
        "outputId": "a108f4fc-1d7b-40e2-ed24-95cd0d7aa2ee"
      },
      "outputs": [
        {
          "output_type": "stream",
          "name": "stderr",
          "text": [
            "<ipython-input-59-d7e4c81a98a7>:1: NumbaDeprecationWarning: The 'nopython' keyword argument was not supplied to the 'numba.jit' decorator. The implicit default value for this argument is currently False, but it will be changed to True in Numba 0.59.0. See https://numba.readthedocs.io/en/stable/reference/deprecation.html#deprecation-of-object-mode-fall-back-behaviour-when-using-jit for details.\n",
            "  @jit()\n"
          ]
        }
      ],
      "source": [
        "@jit()\n",
        "# stop condition\n",
        "def has_converged(centers, new_centers):\n",
        "    for i in range(centers.shape[0]):\n",
        "        for j in range(centers.shape[1]):\n",
        "            if centers[i, j] != new_centers[i, j]:\n",
        "                return False\n",
        "    return True"
      ]
    },
    {
      "cell_type": "code",
      "execution_count": 60,
      "metadata": {
        "id": "tHuE9VxCxY73",
        "colab": {
          "base_uri": "https://localhost:8080/"
        },
        "outputId": "7b9ded9b-5a2f-4ab4-bfeb-1e46b5c93912"
      },
      "outputs": [
        {
          "output_type": "stream",
          "name": "stderr",
          "text": [
            "<ipython-input-60-2a5a6f0876ea>:1: NumbaDeprecationWarning: The 'nopython' keyword argument was not supplied to the 'numba.jit' decorator. The implicit default value for this argument is currently False, but it will be changed to True in Numba 0.59.0. See https://numba.readthedocs.io/en/stable/reference/deprecation.html#deprecation-of-object-mode-fall-back-behaviour-when-using-jit for details.\n",
            "  @jit()\n"
          ]
        }
      ],
      "source": [
        "@jit()\n",
        "# main kmeans function\n",
        "def kmeans(df_Standardize, K):\n",
        "    centers = kmeans_init_centers(df_Standardize, K)\n",
        "    it = 0\n",
        "    while True:\n",
        "        assigned_labels = kmeans_assign_labels(df_Standardize, centers)\n",
        "        new_centers = kmeans_update_centroids(df_Standardize, assigned_labels, K)\n",
        "        if has_converged(centers, new_centers):\n",
        "            break\n",
        "        centers = new_centers\n",
        "        it += 1\n",
        "    return centers, assigned_labels, it"
      ]
    },
    {
      "cell_type": "code",
      "execution_count": 61,
      "metadata": {
        "id": "3KF5ZubqxY73",
        "colab": {
          "base_uri": "https://localhost:8080/"
        },
        "outputId": "16763b97-c45e-459a-fbb8-c7a6a175951c"
      },
      "outputs": [
        {
          "output_type": "stream",
          "name": "stdout",
          "text": [
            "Processing time: 8.225087404251099 s\n",
            "Centers found by k-means algorithm:\n",
            "[ 4.46700000e+03  3.81094862e-02  5.02189895e-02  5.83274799e-04\n",
            "  5.36927127e-03 -7.84065808e-03  6.31988406e-03 -4.67442461e-02\n",
            "  4.47162453e-02 -6.93487645e-02  1.87956259e-02  1.88486182e-02\n",
            " -3.75253784e-03  7.48275532e-02  1.65785762e-02  4.62410403e-03\n",
            " -2.75550847e-02  7.75076913e-02]\n",
            "============================================================\n"
          ]
        }
      ],
      "source": [
        "start = time.time()\n",
        "(centers, labels, it) = kmeans(df_Standardize, K)\n",
        "end = time.time()\n",
        "print(f'Processing time: {end - start} s')\n",
        "print('Centers found by k-means algorithm:')\n",
        "print(centers[-1])\n",
        "print('='*60)"
      ]
    }
  ],
  "metadata": {
    "kernelspec": {
      "display_name": "Python 3",
      "language": "python",
      "name": "python3"
    },
    "language_info": {
      "codemirror_mode": {
        "name": "ipython",
        "version": 3
      },
      "file_extension": ".py",
      "mimetype": "text/x-python",
      "name": "python",
      "nbconvert_exporter": "python",
      "pygments_lexer": "ipython3",
      "version": "3.10.11"
    },
    "colab": {
      "provenance": []
    }
  },
  "nbformat": 4,
  "nbformat_minor": 0
}